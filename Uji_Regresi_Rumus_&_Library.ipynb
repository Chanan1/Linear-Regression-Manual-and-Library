{
  "nbformat": 4,
  "nbformat_minor": 0,
  "metadata": {
    "colab": {
      "provenance": [],
      "gpuType": "T4"
    },
    "kernelspec": {
      "name": "python3",
      "display_name": "Python 3"
    },
    "language_info": {
      "name": "python"
    },
    "accelerator": "GPU"
  },
  "cells": [
    {
      "cell_type": "code",
      "source": [
        "\n",
        "import pandas as pd\n",
        "import numpy as np\n",
        "import matplotlib.pyplot as plt\n",
        "from google.colab import drive\n",
        "drive.mount(\"/content/drive\")\n",
        "df=pd.read_csv(\"/content/drive/MyDrive/Colab Notebooks/Samsung.csv\")\n"
      ],
      "metadata": {
        "colab": {
          "base_uri": "https://localhost:8080/"
        },
        "id": "V9CwhPGu9dZn",
        "outputId": "061530b0-abf5-4579-9aed-d2f9227a5a60"
      },
      "execution_count": null,
      "outputs": [
        {
          "output_type": "stream",
          "name": "stdout",
          "text": [
            "Drive already mounted at /content/drive; to attempt to forcibly remount, call drive.mount(\"/content/drive\", force_remount=True).\n"
          ]
        }
      ]
    },
    {
      "cell_type": "code",
      "source": [
        "df.head()"
      ],
      "metadata": {
        "colab": {
          "base_uri": "https://localhost:8080/",
          "height": 206
        },
        "id": "OrWgh72QZaV9",
        "outputId": "be055b25-f04a-4c69-9d01-8a7468a0874c"
      },
      "execution_count": null,
      "outputs": [
        {
          "output_type": "execute_result",
          "data": {
            "text/plain": [
              "         Date    Open    High     Low   Close    Adj Close    Volume\n",
              "0  2000-01-04  6000.0  6110.0  5660.0  6110.0  4449.709961  74195000\n",
              "1  2000-01-05  5800.0  6060.0  5520.0  5580.0  4063.728760  74680000\n",
              "2  2000-01-06  5750.0  5780.0  5580.0  5620.0  4092.859863  54390000\n",
              "3  2000-01-07  5560.0  5670.0  5360.0  5540.0  4034.598877  40305000\n",
              "4  2000-01-10  5600.0  5770.0  5580.0  5770.0  4202.098145  46880000"
            ],
            "text/html": [
              "\n",
              "  <div id=\"df-41106c31-59be-4344-b383-eccfa24832c0\" class=\"colab-df-container\">\n",
              "    <div>\n",
              "<style scoped>\n",
              "    .dataframe tbody tr th:only-of-type {\n",
              "        vertical-align: middle;\n",
              "    }\n",
              "\n",
              "    .dataframe tbody tr th {\n",
              "        vertical-align: top;\n",
              "    }\n",
              "\n",
              "    .dataframe thead th {\n",
              "        text-align: right;\n",
              "    }\n",
              "</style>\n",
              "<table border=\"1\" class=\"dataframe\">\n",
              "  <thead>\n",
              "    <tr style=\"text-align: right;\">\n",
              "      <th></th>\n",
              "      <th>Date</th>\n",
              "      <th>Open</th>\n",
              "      <th>High</th>\n",
              "      <th>Low</th>\n",
              "      <th>Close</th>\n",
              "      <th>Adj Close</th>\n",
              "      <th>Volume</th>\n",
              "    </tr>\n",
              "  </thead>\n",
              "  <tbody>\n",
              "    <tr>\n",
              "      <th>0</th>\n",
              "      <td>2000-01-04</td>\n",
              "      <td>6000.0</td>\n",
              "      <td>6110.0</td>\n",
              "      <td>5660.0</td>\n",
              "      <td>6110.0</td>\n",
              "      <td>4449.709961</td>\n",
              "      <td>74195000</td>\n",
              "    </tr>\n",
              "    <tr>\n",
              "      <th>1</th>\n",
              "      <td>2000-01-05</td>\n",
              "      <td>5800.0</td>\n",
              "      <td>6060.0</td>\n",
              "      <td>5520.0</td>\n",
              "      <td>5580.0</td>\n",
              "      <td>4063.728760</td>\n",
              "      <td>74680000</td>\n",
              "    </tr>\n",
              "    <tr>\n",
              "      <th>2</th>\n",
              "      <td>2000-01-06</td>\n",
              "      <td>5750.0</td>\n",
              "      <td>5780.0</td>\n",
              "      <td>5580.0</td>\n",
              "      <td>5620.0</td>\n",
              "      <td>4092.859863</td>\n",
              "      <td>54390000</td>\n",
              "    </tr>\n",
              "    <tr>\n",
              "      <th>3</th>\n",
              "      <td>2000-01-07</td>\n",
              "      <td>5560.0</td>\n",
              "      <td>5670.0</td>\n",
              "      <td>5360.0</td>\n",
              "      <td>5540.0</td>\n",
              "      <td>4034.598877</td>\n",
              "      <td>40305000</td>\n",
              "    </tr>\n",
              "    <tr>\n",
              "      <th>4</th>\n",
              "      <td>2000-01-10</td>\n",
              "      <td>5600.0</td>\n",
              "      <td>5770.0</td>\n",
              "      <td>5580.0</td>\n",
              "      <td>5770.0</td>\n",
              "      <td>4202.098145</td>\n",
              "      <td>46880000</td>\n",
              "    </tr>\n",
              "  </tbody>\n",
              "</table>\n",
              "</div>\n",
              "    <div class=\"colab-df-buttons\">\n",
              "\n",
              "  <div class=\"colab-df-container\">\n",
              "    <button class=\"colab-df-convert\" onclick=\"convertToInteractive('df-41106c31-59be-4344-b383-eccfa24832c0')\"\n",
              "            title=\"Convert this dataframe to an interactive table.\"\n",
              "            style=\"display:none;\">\n",
              "\n",
              "  <svg xmlns=\"http://www.w3.org/2000/svg\" height=\"24px\" viewBox=\"0 -960 960 960\">\n",
              "    <path d=\"M120-120v-720h720v720H120Zm60-500h600v-160H180v160Zm220 220h160v-160H400v160Zm0 220h160v-160H400v160ZM180-400h160v-160H180v160Zm440 0h160v-160H620v160ZM180-180h160v-160H180v160Zm440 0h160v-160H620v160Z\"/>\n",
              "  </svg>\n",
              "    </button>\n",
              "\n",
              "  <style>\n",
              "    .colab-df-container {\n",
              "      display:flex;\n",
              "      gap: 12px;\n",
              "    }\n",
              "\n",
              "    .colab-df-convert {\n",
              "      background-color: #E8F0FE;\n",
              "      border: none;\n",
              "      border-radius: 50%;\n",
              "      cursor: pointer;\n",
              "      display: none;\n",
              "      fill: #1967D2;\n",
              "      height: 32px;\n",
              "      padding: 0 0 0 0;\n",
              "      width: 32px;\n",
              "    }\n",
              "\n",
              "    .colab-df-convert:hover {\n",
              "      background-color: #E2EBFA;\n",
              "      box-shadow: 0px 1px 2px rgba(60, 64, 67, 0.3), 0px 1px 3px 1px rgba(60, 64, 67, 0.15);\n",
              "      fill: #174EA6;\n",
              "    }\n",
              "\n",
              "    .colab-df-buttons div {\n",
              "      margin-bottom: 4px;\n",
              "    }\n",
              "\n",
              "    [theme=dark] .colab-df-convert {\n",
              "      background-color: #3B4455;\n",
              "      fill: #D2E3FC;\n",
              "    }\n",
              "\n",
              "    [theme=dark] .colab-df-convert:hover {\n",
              "      background-color: #434B5C;\n",
              "      box-shadow: 0px 1px 3px 1px rgba(0, 0, 0, 0.15);\n",
              "      filter: drop-shadow(0px 1px 2px rgba(0, 0, 0, 0.3));\n",
              "      fill: #FFFFFF;\n",
              "    }\n",
              "  </style>\n",
              "\n",
              "    <script>\n",
              "      const buttonEl =\n",
              "        document.querySelector('#df-41106c31-59be-4344-b383-eccfa24832c0 button.colab-df-convert');\n",
              "      buttonEl.style.display =\n",
              "        google.colab.kernel.accessAllowed ? 'block' : 'none';\n",
              "\n",
              "      async function convertToInteractive(key) {\n",
              "        const element = document.querySelector('#df-41106c31-59be-4344-b383-eccfa24832c0');\n",
              "        const dataTable =\n",
              "          await google.colab.kernel.invokeFunction('convertToInteractive',\n",
              "                                                    [key], {});\n",
              "        if (!dataTable) return;\n",
              "\n",
              "        const docLinkHtml = 'Like what you see? Visit the ' +\n",
              "          '<a target=\"_blank\" href=https://colab.research.google.com/notebooks/data_table.ipynb>data table notebook</a>'\n",
              "          + ' to learn more about interactive tables.';\n",
              "        element.innerHTML = '';\n",
              "        dataTable['output_type'] = 'display_data';\n",
              "        await google.colab.output.renderOutput(dataTable, element);\n",
              "        const docLink = document.createElement('div');\n",
              "        docLink.innerHTML = docLinkHtml;\n",
              "        element.appendChild(docLink);\n",
              "      }\n",
              "    </script>\n",
              "  </div>\n",
              "\n",
              "\n",
              "<div id=\"df-a1424db8-255d-46b1-9441-ceaac429cb09\">\n",
              "  <button class=\"colab-df-quickchart\" onclick=\"quickchart('df-a1424db8-255d-46b1-9441-ceaac429cb09')\"\n",
              "            title=\"Suggest charts\"\n",
              "            style=\"display:none;\">\n",
              "\n",
              "<svg xmlns=\"http://www.w3.org/2000/svg\" height=\"24px\"viewBox=\"0 0 24 24\"\n",
              "     width=\"24px\">\n",
              "    <g>\n",
              "        <path d=\"M19 3H5c-1.1 0-2 .9-2 2v14c0 1.1.9 2 2 2h14c1.1 0 2-.9 2-2V5c0-1.1-.9-2-2-2zM9 17H7v-7h2v7zm4 0h-2V7h2v10zm4 0h-2v-4h2v4z\"/>\n",
              "    </g>\n",
              "</svg>\n",
              "  </button>\n",
              "\n",
              "<style>\n",
              "  .colab-df-quickchart {\n",
              "      --bg-color: #E8F0FE;\n",
              "      --fill-color: #1967D2;\n",
              "      --hover-bg-color: #E2EBFA;\n",
              "      --hover-fill-color: #174EA6;\n",
              "      --disabled-fill-color: #AAA;\n",
              "      --disabled-bg-color: #DDD;\n",
              "  }\n",
              "\n",
              "  [theme=dark] .colab-df-quickchart {\n",
              "      --bg-color: #3B4455;\n",
              "      --fill-color: #D2E3FC;\n",
              "      --hover-bg-color: #434B5C;\n",
              "      --hover-fill-color: #FFFFFF;\n",
              "      --disabled-bg-color: #3B4455;\n",
              "      --disabled-fill-color: #666;\n",
              "  }\n",
              "\n",
              "  .colab-df-quickchart {\n",
              "    background-color: var(--bg-color);\n",
              "    border: none;\n",
              "    border-radius: 50%;\n",
              "    cursor: pointer;\n",
              "    display: none;\n",
              "    fill: var(--fill-color);\n",
              "    height: 32px;\n",
              "    padding: 0;\n",
              "    width: 32px;\n",
              "  }\n",
              "\n",
              "  .colab-df-quickchart:hover {\n",
              "    background-color: var(--hover-bg-color);\n",
              "    box-shadow: 0 1px 2px rgba(60, 64, 67, 0.3), 0 1px 3px 1px rgba(60, 64, 67, 0.15);\n",
              "    fill: var(--button-hover-fill-color);\n",
              "  }\n",
              "\n",
              "  .colab-df-quickchart-complete:disabled,\n",
              "  .colab-df-quickchart-complete:disabled:hover {\n",
              "    background-color: var(--disabled-bg-color);\n",
              "    fill: var(--disabled-fill-color);\n",
              "    box-shadow: none;\n",
              "  }\n",
              "\n",
              "  .colab-df-spinner {\n",
              "    border: 2px solid var(--fill-color);\n",
              "    border-color: transparent;\n",
              "    border-bottom-color: var(--fill-color);\n",
              "    animation:\n",
              "      spin 1s steps(1) infinite;\n",
              "  }\n",
              "\n",
              "  @keyframes spin {\n",
              "    0% {\n",
              "      border-color: transparent;\n",
              "      border-bottom-color: var(--fill-color);\n",
              "      border-left-color: var(--fill-color);\n",
              "    }\n",
              "    20% {\n",
              "      border-color: transparent;\n",
              "      border-left-color: var(--fill-color);\n",
              "      border-top-color: var(--fill-color);\n",
              "    }\n",
              "    30% {\n",
              "      border-color: transparent;\n",
              "      border-left-color: var(--fill-color);\n",
              "      border-top-color: var(--fill-color);\n",
              "      border-right-color: var(--fill-color);\n",
              "    }\n",
              "    40% {\n",
              "      border-color: transparent;\n",
              "      border-right-color: var(--fill-color);\n",
              "      border-top-color: var(--fill-color);\n",
              "    }\n",
              "    60% {\n",
              "      border-color: transparent;\n",
              "      border-right-color: var(--fill-color);\n",
              "    }\n",
              "    80% {\n",
              "      border-color: transparent;\n",
              "      border-right-color: var(--fill-color);\n",
              "      border-bottom-color: var(--fill-color);\n",
              "    }\n",
              "    90% {\n",
              "      border-color: transparent;\n",
              "      border-bottom-color: var(--fill-color);\n",
              "    }\n",
              "  }\n",
              "</style>\n",
              "\n",
              "  <script>\n",
              "    async function quickchart(key) {\n",
              "      const quickchartButtonEl =\n",
              "        document.querySelector('#' + key + ' button');\n",
              "      quickchartButtonEl.disabled = true;  // To prevent multiple clicks.\n",
              "      quickchartButtonEl.classList.add('colab-df-spinner');\n",
              "      try {\n",
              "        const charts = await google.colab.kernel.invokeFunction(\n",
              "            'suggestCharts', [key], {});\n",
              "      } catch (error) {\n",
              "        console.error('Error during call to suggestCharts:', error);\n",
              "      }\n",
              "      quickchartButtonEl.classList.remove('colab-df-spinner');\n",
              "      quickchartButtonEl.classList.add('colab-df-quickchart-complete');\n",
              "    }\n",
              "    (() => {\n",
              "      let quickchartButtonEl =\n",
              "        document.querySelector('#df-a1424db8-255d-46b1-9441-ceaac429cb09 button');\n",
              "      quickchartButtonEl.style.display =\n",
              "        google.colab.kernel.accessAllowed ? 'block' : 'none';\n",
              "    })();\n",
              "  </script>\n",
              "</div>\n",
              "\n",
              "    </div>\n",
              "  </div>\n"
            ],
            "application/vnd.google.colaboratory.intrinsic+json": {
              "type": "dataframe",
              "variable_name": "df",
              "summary": "{\n  \"name\": \"df\",\n  \"rows\": 6127,\n  \"fields\": [\n    {\n      \"column\": \"Date\",\n      \"properties\": {\n        \"dtype\": \"object\",\n        \"num_unique_values\": 6127,\n        \"samples\": [\n          \"2005-03-17\",\n          \"2022-07-18\",\n          \"2017-04-27\"\n        ],\n        \"semantic_type\": \"\",\n        \"description\": \"\"\n      }\n    },\n    {\n      \"column\": \"Open\",\n      \"properties\": {\n        \"dtype\": \"number\",\n        \"std\": 22589.409269155833,\n        \"min\": 2540.0,\n        \"max\": 90300.0,\n        \"num_unique_values\": 2127,\n        \"samples\": [\n          7400.0,\n          76000.0,\n          46150.0\n        ],\n        \"semantic_type\": \"\",\n        \"description\": \"\"\n      }\n    },\n    {\n      \"column\": \"High\",\n      \"properties\": {\n        \"dtype\": \"number\",\n        \"std\": 22764.800971727953,\n        \"min\": 2760.0,\n        \"max\": 96800.0,\n        \"num_unique_values\": 2209,\n        \"samples\": [\n          16440.0,\n          42120.0,\n          32980.0\n        ],\n        \"semantic_type\": \"\",\n        \"description\": \"\"\n      }\n    },\n    {\n      \"column\": \"Low\",\n      \"properties\": {\n        \"dtype\": \"number\",\n        \"std\": 22394.68127577785,\n        \"min\": 2420.0,\n        \"max\": 89500.0,\n        \"num_unique_values\": 2234,\n        \"samples\": [\n          21060.0,\n          8830.0,\n          9020.0\n        ],\n        \"semantic_type\": \"\",\n        \"description\": \"\"\n      }\n    },\n    {\n      \"column\": \"Close\",\n      \"properties\": {\n        \"dtype\": \"number\",\n        \"std\": 22567.361619100076,\n        \"min\": 2730.0,\n        \"max\": 91000.0,\n        \"num_unique_values\": 2185,\n        \"samples\": [\n          7270.0,\n          6130.0,\n          26060.0\n        ],\n        \"semantic_type\": \"\",\n        \"description\": \"\"\n      }\n    },\n    {\n      \"column\": \"Adj Close\",\n      \"properties\": {\n        \"dtype\": \"number\",\n        \"std\": 22041.30289886259,\n        \"min\": 1988.168701,\n        \"max\": 85300.0,\n        \"num_unique_values\": 3924,\n        \"samples\": [\n          55525.496094,\n          7763.32666,\n          40948.972656\n        ],\n        \"semantic_type\": \"\",\n        \"description\": \"\"\n      }\n    },\n    {\n      \"column\": \"Volume\",\n      \"properties\": {\n        \"dtype\": \"number\",\n        \"std\": 15058880,\n        \"min\": 0,\n        \"max\": 164215000,\n        \"num_unique_values\": 5884,\n        \"samples\": [\n          15680447,\n          13532700,\n          53740000\n        ],\n        \"semantic_type\": \"\",\n        \"description\": \"\"\n      }\n    }\n  ]\n}"
            }
          },
          "metadata": {},
          "execution_count": 14
        }
      ]
    },
    {
      "cell_type": "markdown",
      "source": [
        "# **Uji Regresi Manual**\n",
        "![regresi.png](data:image/png;base64,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)"
      ],
      "metadata": {
        "id": "YJmdy5uR4A-H"
      }
    },
    {
      "cell_type": "code",
      "source": [
        "x = df[\"High\"]\n",
        "y = df[\"Low\"]\n",
        "\n",
        "n = len(x)\n",
        "\n",
        "sumX = np.sum(x)\n",
        "sumY = np.sum(y)\n",
        "\n",
        "xy = np.sum(x*y)\n",
        "x2 = sumX**2\n",
        "y2 = sumY**2\n",
        "\n",
        "sum_x2 = np.sum(x**2)\n",
        "sum_y2 = np.sum(y**2)\n",
        "\n",
        "atasB = (n*xy)-(sumX*sumY)\n",
        "bawahB = (n*sum_x2)-(x2)\n",
        "\n",
        "koefisien = atasB/bawahB\n",
        "\n",
        "intercept = (sumY - koefisien*sumX) / n\n",
        "print(intercept)\n",
        "print(koefisien)"
      ],
      "metadata": {
        "colab": {
          "base_uri": "https://localhost:8080/"
        },
        "id": "KOuGnc-wZY9n",
        "outputId": "8901857a-ef66-4aa6-8105-bcd49208c33c"
      },
      "execution_count": null,
      "outputs": [
        {
          "output_type": "stream",
          "name": "stdout",
          "text": [
            "-90.84243299445204\n",
            "0.9836255563702397\n"
          ]
        }
      ]
    },
    {
      "cell_type": "markdown",
      "source": [
        "# Regresi Library"
      ],
      "metadata": {
        "id": "Q3YB7UVo4Fnp"
      }
    },
    {
      "cell_type": "code",
      "source": [
        "def myfunc(x):\n",
        "  return koefisien * x + intercept"
      ],
      "metadata": {
        "id": "5RAO95ESMaDV"
      },
      "execution_count": null,
      "outputs": []
    },
    {
      "cell_type": "code",
      "source": [
        "mymodel = list(map(myfunc, x))\n",
        "\n",
        "plt.scatter(x, y)\n",
        "plt.plot(x, mymodel)\n",
        "plt.show()"
      ],
      "metadata": {
        "colab": {
          "base_uri": "https://localhost:8080/",
          "height": 430
        },
        "id": "QZHV_m9OMktj",
        "outputId": "2298e610-a044-4f5d-913f-20ac238954b4"
      },
      "execution_count": null,
      "outputs": [
        {
          "output_type": "display_data",
          "data": {
            "text/plain": [
              "<Figure size 640x480 with 1 Axes>"
            ],
            "image/png": "[encoded data removed]"
          },
          "metadata": {}
        }
      ]
    },
    {
      "cell_type": "code",
      "source": [
        "a1 = sumY*(sum_x2)-sumX*np.sum(x*y)\n",
        "a2 = n*x2-(sum_x2)\n",
        "k = a1/a2\n",
        "i = (sumY - k*sumX) / n\n",
        "print(i)\n",
        "print(k)"
      ],
      "metadata": {
        "id": "IP0jWLi9Iqo7",
        "colab": {
          "base_uri": "https://localhost:8080/"
        },
        "outputId": "929bb3e7-1a1c-4a30-e46f-cc284d4c57a4"
      },
      "execution_count": null,
      "outputs": [
        {
          "output_type": "stream",
          "name": "stdout",
          "text": [
            "28355.384316400552\n",
            "0.010281841938507156\n"
          ]
        }
      ]
    },
    {
      "cell_type": "code",
      "source": [
        "plt.scatter(x, y)\n",
        "plt.show()"
      ],
      "metadata": {
        "colab": {
          "base_uri": "https://localhost:8080/",
          "height": 430
        },
        "id": "ViQQK6L2MACq",
        "outputId": "b3484ff6-913d-48f1-d8f7-9c6922ff25c4"
      },
      "execution_count": null,
      "outputs": [
        {
          "output_type": "display_data",
          "data": {
            "text/plain": [
              "<Figure size 640x480 with 1 Axes>"
            ],
            "image/png": "[encoded data removed]"
          },
          "metadata": {}
        }
      ]
    },
    {
      "cell_type": "code",
      "source": [
        "from scipy import stats\n",
        "slope, intercept, r, p, std_err = stats.linregress(x, y)\n",
        "\n",
        "def myfunc(x):\n",
        "  return slope * x + intercept\n",
        "\n",
        "mymodel = list(map(myfunc, x))\n",
        "\n",
        "plt.scatter(x, y)\n",
        "plt.plot(x, mymodel)\n",
        "plt.show()"
      ],
      "metadata": {
        "colab": {
          "base_uri": "https://localhost:8080/",
          "height": 430
        },
        "id": "MEFqUzSkM3bl",
        "outputId": "ae8e8e6c-242b-43d1-d7e1-abe951fb1a41"
      },
      "execution_count": null,
      "outputs": [
        {
          "output_type": "display_data",
          "data": {
            "text/plain": [
              "<Figure size 640x480 with 1 Axes>"
            ],
            "image/png": "[encoded data removed]"
          },
          "metadata": {}
        }
      ]
    },
    {
      "cell_type": "code",
      "source": [
        "print(slope)\n",
        "print(intercept)"
      ],
      "metadata": {
        "colab": {
          "base_uri": "https://localhost:8080/"
        },
        "id": "jq9FkFB7NM97",
        "outputId": "cdc302e5-a4bd-4dfc-db15-5d521920f866"
      },
      "execution_count": null,
      "outputs": [
        {
          "output_type": "stream",
          "name": "stdout",
          "text": [
            "0.9836255563702403\n",
            "-90.84243299447189\n"
          ]
        }
      ]
    }
  ]
}